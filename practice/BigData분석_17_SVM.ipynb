{
  "cells": [
    {
      "cell_type": "markdown",
      "metadata": {
        "id": "JHM2a4PhbKRF"
      },
      "source": [
        "# 분류"
      ]
    },
    {
      "cell_type": "markdown",
      "metadata": {
        "id": "h4vyO3OUbKRJ"
      },
      "source": [
        "#### 패키지 불러오기"
      ]
    },
    {
      "cell_type": "code",
      "execution_count": null,
      "metadata": {
        "id": "Zjct8PPBbKRK"
      },
      "outputs": [],
      "source": [
        "# 데이터 구성:Series, DataFrame\n",
        "import pandas as pd\n",
        "import numpy as np\n",
        "# 데이터 시각화\n",
        "import matplotlib.pyplot as plt\n",
        "import matplotlib\n",
        "\n",
        "# 데이터 scaling\n",
        "from sklearn.preprocessing import StandardScaler\n",
        "# 데이터 분할:train, test\n",
        "from sklearn.model_selection import train_test_split\n",
        "# 분류 SVM\n",
        "from sklearn.svm import SVC\n",
        "# 최적 모델, 파라미터 탐색\n",
        "from sklearn.model_selection import GridSearchCV\n",
        "\n",
        "# 분류모델 평가 함수\n",
        "from sklearn.metrics import accuracy_score, f1_score\n",
        "from sklearn.metrics import confusion_matrix, classification_report"
      ]
    },
    {
      "cell_type": "markdown",
      "metadata": {
        "id": "KrfkaUnxbKRM"
      },
      "source": [
        "#### 그래프 옵션 지정"
      ]
    },
    {
      "cell_type": "code",
      "execution_count": null,
      "metadata": {
        "id": "krvdJEC-bKRM"
      },
      "outputs": [],
      "source": [
        "# 그래프 한글폰트 적용:맑은 고딕\n",
        "matplotlib.rc(\"font\", family = \"Malgun Gothic\")\n",
        "# 그래프 (-) 기호 표시\n",
        "matplotlib.rc(\"axes\", unicode_minus = False)"
      ]
    },
    {
      "cell_type": "markdown",
      "metadata": {
        "id": "OsHm1lpybKRN"
      },
      "source": [
        "### 데이터 구성하기"
      ]
    },
    {
      "cell_type": "code",
      "execution_count": null,
      "metadata": {
        "id": "8g8Ob7WybKRN"
      },
      "outputs": [],
      "source": [
        "# 데이터 불러오기\n",
        "df_raw = pd.read_csv(\"D:/WORK/DATA/HMEQ.CSV\")\n",
        "df_raw.head()"
      ]
    },
    {
      "cell_type": "code",
      "execution_count": null,
      "metadata": {
        "id": "fqd7xNxabKRO"
      },
      "outputs": [],
      "source": [
        "# Data 구조 확인\n",
        "print(\"Data 구조:\", df_raw.shape)\n",
        "print()\n",
        "print(\"변수 : \", df_raw.columns)"
      ]
    },
    {
      "cell_type": "markdown",
      "metadata": {
        "id": "qWFIGmaFbKRO"
      },
      "source": [
        "#### 결측치 처리"
      ]
    },
    {
      "cell_type": "code",
      "execution_count": null,
      "metadata": {
        "id": "koOBH95xbKRO"
      },
      "outputs": [],
      "source": [
        "# 결측치 확인\n",
        "df_raw.isnull().sum(axis = 0)"
      ]
    },
    {
      "cell_type": "code",
      "execution_count": null,
      "metadata": {
        "id": "s_LlJe11bKRP"
      },
      "outputs": [],
      "source": [
        "# fillna: 결측치를 채우는 함수\n",
        "# JOB 변수의 결측치는 Other로 입력, inplace: fillna 함수 적용 후 ds_hmeq 데이터에 저장, False면 저장 안 함\n",
        "df_raw[\"JOB\"].fillna(\"Other\", inplace = True)\n",
        "# 숫자형 변수의 결측치는 해당 변수의 평균값 입력: ds_hmeq.mean() 각 변수별 평균 계산 후 결측치 대체\n",
        "df_raw.fillna(df_raw.mean(), inplace=True)"
      ]
    },
    {
      "cell_type": "code",
      "execution_count": null,
      "metadata": {
        "id": "BzlDKYWQbKRP"
      },
      "outputs": [],
      "source": [
        "# 결측치 처리 후 확인\n",
        "df_raw.isnull().sum()"
      ]
    },
    {
      "cell_type": "markdown",
      "metadata": {
        "id": "aF79-HtjbKRP"
      },
      "source": [
        "#### 데이터 분리:목표변수/설명변수 분리"
      ]
    },
    {
      "cell_type": "code",
      "execution_count": null,
      "metadata": {
        "id": "AxWEd_hfbKRP"
      },
      "outputs": [],
      "source": [
        "# 목표변수/설명변수 분리\n",
        "df_raw_x = df_raw.drop(\"BAD\", axis = 1, inplace = False)\n",
        "df_raw_y = df_raw[\"BAD\"]\n",
        "\n",
        "display(\"설명변수:\", df_raw_x.head())\n",
        "display(\"목표변수:\",df_raw_y.head())"
      ]
    },
    {
      "cell_type": "markdown",
      "metadata": {
        "id": "K9_DQxFKbKRP"
      },
      "source": [
        "#### 범주형 설명변수 더미변환"
      ]
    },
    {
      "cell_type": "code",
      "execution_count": null,
      "metadata": {
        "id": "zaaMKD7ZbKRQ"
      },
      "outputs": [],
      "source": [
        "# 범주형 변수 선택 : select_dtypes=\"object\"\n",
        "df_raw_x_char = df_raw_x.select_dtypes(include = \"object\")\n",
        "df_raw_x_char.head()\n",
        "\n",
        "# get_dummies: 범주형 변수에 대한 더미변환\n",
        "df_x_dummy = pd.get_dummies(df_raw_x_char)\n",
        "df_x_dummy.head()\n",
        "\n",
        "display(\"Dummy 변환 전:\", df_raw_x_char.head())\n",
        "display(\"Dummy 변환 후:\",df_x_dummy.head())"
      ]
    },
    {
      "cell_type": "markdown",
      "metadata": {
        "id": "MriiIYLlbKRQ"
      },
      "source": [
        "#### 연속형 설명변수 scaling 변환"
      ]
    },
    {
      "cell_type": "code",
      "execution_count": null,
      "metadata": {
        "id": "atZPbaZlbKRQ",
        "outputId": "cee8155a-c04d-41aa-db0e-329cc1eaa98d"
      },
      "outputs": [
        {
          "ename": "NameError",
          "evalue": "name 'df_raw_x' is not defined",
          "output_type": "error",
          "traceback": [
            "\u001b[0;31m---------------------------------------------------------------------------\u001b[0m",
            "\u001b[0;31mNameError\u001b[0m                                 Traceback (most recent call last)",
            "Cell \u001b[0;32mIn[1], line 2\u001b[0m\n\u001b[1;32m      1\u001b[0m \u001b[38;5;66;03m# 연속형 변수 선택 : select_dtypes=\"object\" 제외\u001b[39;00m\n\u001b[0;32m----> 2\u001b[0m df_raw_x_num \u001b[38;5;241m=\u001b[39m \u001b[43mdf_raw_x\u001b[49m\u001b[38;5;241m.\u001b[39mselect_dtypes(exclude \u001b[38;5;241m=\u001b[39m \u001b[38;5;124m\"\u001b[39m\u001b[38;5;124mobject\u001b[39m\u001b[38;5;124m\"\u001b[39m)\n\u001b[1;32m      3\u001b[0m df_raw_x_num\u001b[38;5;241m.\u001b[39mhead()\n\u001b[1;32m      5\u001b[0m \u001b[38;5;66;03m# 변수명 저장\u001b[39;00m\n",
            "\u001b[0;31mNameError\u001b[0m: name 'df_raw_x' is not defined"
          ]
        }
      ],
      "source": [
        "# 연속형 변수 선택 : select_dtypes=\"object\" 제외\n",
        "df_raw_x_num = df_raw_x.select_dtypes(exclude = \"object\")\n",
        "#df_raw_x_num.head()\n",
        "\n",
        "# 변수명 저장\n",
        "v_feature_names = df_raw_x_num.columns\n",
        "\n",
        "# StandardScaler 적용\n",
        "scaler = StandardScaler()\n",
        "df_x_scaled = scaler.fit_transform(df_raw_x_num)\n",
        "df_x_scaled = pd.DataFrame(df_x_scaled, columns=v_feature_names)\n",
        "\n",
        "display(\"Scale 변환 전:\", df_raw_x_num.head())\n",
        "display(\"Scale 변환 후:\",df_x_scaled.head())"
      ]
    },
    {
      "cell_type": "markdown",
      "metadata": {
        "id": "i11YYsY_bKRR"
      },
      "source": [
        "#### 설명변수 데이터 결합: scale된 연속형 + dummy된 범주형"
      ]
    },
    {
      "cell_type": "code",
      "execution_count": null,
      "metadata": {
        "id": "CNi9ny5DbKRR"
      },
      "outputs": [],
      "source": [
        "# 설명변수 데이터 결합: scale된 연속형 + dummy된 범주형\n",
        "df_x_converted = df_x_scaled.join(df_x_dummy)\n",
        "\n",
        "display(\"변환 전:\", df_raw_x.head())\n",
        "display(\"Scale/Dummy 변환 후:\",df_x_converted.head())"
      ]
    },
    {
      "cell_type": "markdown",
      "metadata": {
        "id": "89AUojL_bKRR"
      },
      "source": [
        "#### 데이터 분할:Train vs. Test"
      ]
    },
    {
      "cell_type": "code",
      "execution_count": null,
      "metadata": {
        "id": "BuvqsXmybKRR"
      },
      "outputs": [],
      "source": [
        "# 변환된 설명변수 데이터 사용:df_x_converted\n",
        "df_train_x, df_test_x, df_train_y, df_test_y = train_test_split(df_x_converted, df_raw_y\n",
        "                                    , test_size = 0.3, random_state = 1234)\n",
        "\n",
        "print(\"분할된 Train Data: {}\".format(df_train_x.shape))\n",
        "print(\"분할된 Test Data: {}\".format(df_test_x.shape))"
      ]
    },
    {
      "cell_type": "markdown",
      "metadata": {
        "id": "o5GiKHMjbKRR"
      },
      "source": [
        "## 모델 생성"
      ]
    },
    {
      "cell_type": "markdown",
      "metadata": {
        "id": "N6GSCG7RbKRR"
      },
      "source": [
        "#### 기본 옵션 모델 생성"
      ]
    },
    {
      "cell_type": "code",
      "execution_count": null,
      "metadata": {
        "id": "v7lTttCkbKRR"
      },
      "outputs": [],
      "source": [
        "svm_uncust = SVC(random_state=1234)\n",
        "svm_uncust.fit(df_train_x, df_train_y)\n",
        "\n",
        "# train 모델 정확도\n",
        "print(\"Train Accuracy : {:.3f}\".format(svm_uncust.score(df_train_x, df_train_y)))\n",
        "# test 모델 정확도\n",
        "print(\"Test Accuracy : {:.3f}\".format(svm_uncust.score(df_test_x, df_test_y)))"
      ]
    },
    {
      "cell_type": "code",
      "execution_count": null,
      "metadata": {
        "id": "YofcjuFwbKRS"
      },
      "outputs": [],
      "source": [
        "# 실행옵션 확인\n",
        "print(svm_uncust.get_params().keys())\n",
        "print(svm_uncust.get_params().values())"
      ]
    },
    {
      "cell_type": "markdown",
      "metadata": {
        "id": "d6ZV3wzubKRS"
      },
      "source": [
        "#### Cost 변경에 따른 모델 성능"
      ]
    },
    {
      "cell_type": "code",
      "execution_count": null,
      "metadata": {
        "id": "cbYSSXMUbKRS"
      },
      "outputs": [],
      "source": [
        "# train 및 test 정확도 결과 저장용\n",
        "train_accuracy = []; test_accuracy = []\n",
        "\n",
        "para_c = [10 **c for c in range(-2, 3)] # 0.01, 0.1, 1, 10, 100 : 큰 변화 영향 확인\n",
        "# para_c = [0.1 * c for c in range(1, 13)] )] # 0.1~1.0 : 작은 변화 영향 확인\n",
        "\n",
        "for v_C in para_c:\n",
        "    svm = SVC(C = v_C, random_state = 1234)\n",
        "    svm.fit(df_train_x, df_train_y)\n",
        "    train_accuracy.append(svm.score(df_train_x, df_train_y))\n",
        "    test_accuracy.append(svm.score(df_test_x, df_test_y))\n",
        "\n",
        "# 데이터 테이블로 저장\n",
        "df_accuracy_c = pd.DataFrame()\n",
        "df_accuracy_c[\"Cost\"] = para_c\n",
        "df_accuracy_c[\"TrainAccuracy\"] = train_accuracy\n",
        "df_accuracy_c[\"TestAccuracy\"] = test_accuracy"
      ]
    },
    {
      "cell_type": "code",
      "execution_count": null,
      "metadata": {
        "id": "hbLAR5UJbKRS"
      },
      "outputs": [],
      "source": [
        "# Cost별 정확도\n",
        "df_accuracy_c.round(3)"
      ]
    },
    {
      "cell_type": "code",
      "execution_count": null,
      "metadata": {
        "scrolled": false,
        "id": "Ys5tGX7_bKRS"
      },
      "outputs": [],
      "source": [
        "# 정확도 그래프 확인\n",
        "plt.plot(para_c, train_accuracy, linestyle = \"-\", label = \"Train Accuracy\")\n",
        "plt.plot(para_c, test_accuracy, linestyle = \"--\", label = \"Test Accuracy\")\n",
        "plt.ylabel(\"Accuracy\"); plt.xlabel(\"Cost\")\n",
        "plt.legend()"
      ]
    },
    {
      "cell_type": "raw",
      "metadata": {
        "id": "W6Iu6mf_bKRS"
      },
      "source": [
        "# Cost 미세 변화에 따른 모델 성능"
      ]
    },
    {
      "cell_type": "code",
      "execution_count": null,
      "metadata": {
        "id": "gZNHk3R8bKRS"
      },
      "outputs": [],
      "source": [
        "# train 및 test 정확도 결과 저장용\n",
        "train_accuracy = []; test_accuracy = []\n",
        "\n",
        "# para_c = [10 **c for c in range(-2, 3)] # 0.01, 0.1, 1, 10, 100 : 큰 변화 영향 확인\n",
        "para_c = [0.1 * c for c in range(1, 13)] # 0.1~1.0 : 작은 변화 영향 확인\n",
        "\n",
        "for v_C in para_c:\n",
        "    svm = SVC(C = v_C, random_state = 1234)\n",
        "    svm.fit(df_train_x, df_train_y)\n",
        "    train_accuracy.append(svm.score(df_train_x, df_train_y))\n",
        "    test_accuracy.append(svm.score(df_test_x, df_test_y))\n",
        "\n",
        "# 데이터 테이블로 저장\n",
        "df_accuracy_c = pd.DataFrame()\n",
        "df_accuracy_c[\"Cost\"] = para_c\n",
        "df_accuracy_c[\"TrainAccuracy\"] = train_accuracy\n",
        "df_accuracy_c[\"TestAccuracy\"] = test_accuracy"
      ]
    },
    {
      "cell_type": "code",
      "execution_count": null,
      "metadata": {
        "id": "qquzPEQrbKRT"
      },
      "outputs": [],
      "source": [
        "# Cost별 정확도\n",
        "df_accuracy_c.round(3)"
      ]
    },
    {
      "cell_type": "code",
      "execution_count": null,
      "metadata": {
        "scrolled": false,
        "id": "nmOVKTArbKRT"
      },
      "outputs": [],
      "source": [
        "# 정확도 그래프 확인\n",
        "plt.plot(para_c, train_accuracy, linestyle = \"-\", label = \"Train Accuracy\")\n",
        "plt.plot(para_c, test_accuracy, linestyle = \"--\", label = \"Test Accuracy\")\n",
        "plt.ylabel(\"Accuracy\"); plt.xlabel(\"Cost\")\n",
        "plt.legend()"
      ]
    },
    {
      "cell_type": "raw",
      "metadata": {
        "id": "4yc5DrmNbKRT"
      },
      "source": [
        "# Cost 지정: 0.8"
      ]
    },
    {
      "cell_type": "markdown",
      "metadata": {
        "id": "LTjSBsDDbKRT"
      },
      "source": [
        "#### Gamma(데이터 영향 범위) 변경에 따른 모델 성능"
      ]
    },
    {
      "cell_type": "code",
      "execution_count": null,
      "metadata": {
        "id": "dK-aoLZXbKRT"
      },
      "outputs": [],
      "source": [
        "# train 및 test 정확도 결과 저장용\n",
        "train_accuracy = []; test_accuracy = []\n",
        "\n",
        "para_gamma = [10 **gamma for gamma in range(-2, 3)]   # 0.01, 0.1, 1, 10, 100 : 큰 변화 영향 확인\n",
        "# para_gamma = [0.1 * gamma for gamma in range(1, 11)]     # 0.1~1.0 : 작은 변화 영향 확인\n",
        "\n",
        "for v_gamma in para_gamma:\n",
        "    svm = SVC(gamma = v_gamma, C = 0.8, random_state = 1234)\n",
        "    svm.fit(df_train_x, df_train_y)\n",
        "    train_accuracy.append(svm.score(df_train_x, df_train_y))\n",
        "    test_accuracy.append(svm.score(df_test_x, df_test_y))\n",
        "\n",
        "# 데이터 테이블로 저장\n",
        "df_accuracy_gamma = pd.DataFrame()\n",
        "df_accuracy_gamma[\"gamma\"] = para_gamma\n",
        "df_accuracy_gamma[\"TrainAccuracy\"] = train_accuracy\n",
        "df_accuracy_gamma[\"TestAccuracy\"] = test_accuracy"
      ]
    },
    {
      "cell_type": "code",
      "execution_count": null,
      "metadata": {
        "scrolled": true,
        "id": "N5kjP0KcbKRT"
      },
      "outputs": [],
      "source": [
        "# Gamma별 정확도\n",
        "df_accuracy_gamma.round(4)"
      ]
    },
    {
      "cell_type": "code",
      "execution_count": null,
      "metadata": {
        "scrolled": false,
        "id": "NCuoelDabKRT"
      },
      "outputs": [],
      "source": [
        "# 모델 정확도 그래프 확인\n",
        "plt.plot(para_gamma, train_accuracy, linestyle = \"-\", label = \"Train Accuracy\")\n",
        "plt.plot(para_gamma, test_accuracy, linestyle = \"--\", label = \"Test Accuracy\")\n",
        "plt.ylabel(\"Accuracy\"); plt.xlabel(\"Gamma\")  # X 축 범위 log 변환\n",
        "plt.legend()"
      ]
    },
    {
      "cell_type": "code",
      "execution_count": null,
      "metadata": {
        "id": "yjiw2nzdbKRZ"
      },
      "outputs": [],
      "source": [
        "# Gamma 미세 변화에 따른 모델 성능\n",
        "# train 및 test 정확도 결과 저장용\n",
        "train_accuracy = []; test_accuracy = []\n",
        "\n",
        "# para_gamma = [10 **gamma for gamma in range(-2, 3)]   # 0.01, 0.1, 1, 10, 100 : 큰 변화 영향 확인\n",
        "para_gamma = [0.1 * gamma for gamma in range(1, 11)]     # 0.1~1.0 : 작은 변화 영향 확인\n",
        "\n",
        "for v_gamma in para_gamma:\n",
        "    svm = SVC(gamma = v_gamma, C = 0.8, random_state = 1234)\n",
        "    svm.fit(df_train_x, df_train_y)\n",
        "    train_accuracy.append(svm.score(df_train_x, df_train_y))\n",
        "    test_accuracy.append(svm.score(df_test_x, df_test_y))\n",
        "\n",
        "# 데이터 테이블로 저장\n",
        "df_accuracy_gamma = pd.DataFrame()\n",
        "df_accuracy_gamma[\"gamma\"] = para_gamma\n",
        "df_accuracy_gamma[\"TrainAccuracy\"] = train_accuracy\n",
        "df_accuracy_gamma[\"TestAccuracy\"] = test_accuracy"
      ]
    },
    {
      "cell_type": "code",
      "execution_count": null,
      "metadata": {
        "id": "YetDGspXbKRa"
      },
      "outputs": [],
      "source": [
        "# Gamma별 정확도\n",
        "df_accuracy_gamma.round(4)"
      ]
    },
    {
      "cell_type": "code",
      "execution_count": null,
      "metadata": {
        "scrolled": false,
        "id": "8m5yDe_KbKRa"
      },
      "outputs": [],
      "source": [
        "# 모델 정확도 그래프 확인\n",
        "plt.plot(para_gamma, train_accuracy, linestyle = \"-\", label = \"Train Accuracy\")\n",
        "plt.plot(para_gamma, test_accuracy, linestyle = \"--\", label = \"Test Accuracy\")\n",
        "plt.ylabel(\"Accuracy\"); plt.xlabel(\"Gamma\")  # X 축 범위 log 변환\n",
        "plt.legend()"
      ]
    },
    {
      "cell_type": "raw",
      "metadata": {
        "id": "XX4Dn3Z5bKRa"
      },
      "source": [
        "# Gamma 지정 : 0.2"
      ]
    },
    {
      "cell_type": "markdown",
      "metadata": {
        "id": "W2juOOvqbKRa"
      },
      "source": [
        "## 결론 도출"
      ]
    },
    {
      "cell_type": "code",
      "execution_count": null,
      "metadata": {
        "id": "dTlGDq04bKRa"
      },
      "outputs": [],
      "source": [
        "# 최종 모델\n",
        "svc_final = SVC(gamma=0.2, C=0.8, random_state=1234)\n",
        "svc_final.fit(df_train_x, df_train_y)\n",
        "\n",
        "# 평가\n",
        "y_pred = svc_final.predict(df_test_x)\n",
        "\n",
        "# train 모델 정확도\n",
        "print(\"Train Accucary : {:.3f}\".format(svc_final.score(df_train_x, df_train_y)))\n",
        "# test 모델 정확도\n",
        "print(\"Test Accuracy : {:.3f}\\n\".format(svc_final.score(df_test_x, df_test_y)))\n",
        "# confusion matrix\n",
        "print(\"Test Confusion matrix: \\n{}\".format(confusion_matrix(df_test_y, y_pred)))\n",
        "\n",
        "# 목표변수의 빈도 불균형 : f1 score로 모델 평가\n",
        "print(classification_report(df_test_y, y_pred, digits=3))"
      ]
    },
    {
      "cell_type": "markdown",
      "metadata": {
        "id": "PymBpZfMbKRb"
      },
      "source": [
        "### Grid Search"
      ]
    },
    {
      "cell_type": "raw",
      "metadata": {
        "id": "KuK4DYWrbKRb"
      },
      "source": [
        "estimator = SVC(random_state=1234)\n",
        "# 구하고자 하는 parameter와 범위\n",
        "param_grid = {\"C\": para_c,\n",
        "              \"gamma\": para_gamma}\n",
        "# 정확도가 높은 최적 parameter 찾기\n",
        "grid_rf = GridSearchCV(estimator, param_grid, scoring=\"accuracy\", n_jobs = -1)\n",
        "grid_rf.fit(df_scaled_train_x, df_train_y)\n",
        "print(\"best estimator model: \\n{}\".format(grid_rf.best_estimator_))\n",
        "print(\"\\nbest parameter: \\n{}\".format(grid_rf.best_params_))\n",
        "print(\"\\nbest score: \\n{}\".format(grid_rf.best_score_.round(3)))"
      ]
    },
    {
      "cell_type": "markdown",
      "metadata": {
        "id": "9lFeQJP0bKRb"
      },
      "source": [
        "## End of SVM"
      ]
    }
  ],
  "metadata": {
    "kernelspec": {
      "display_name": "Python [conda env:base] *",
      "language": "python",
      "name": "conda-base-py"
    },
    "language_info": {
      "codemirror_mode": {
        "name": "ipython",
        "version": 3
      },
      "file_extension": ".py",
      "mimetype": "text/x-python",
      "name": "python",
      "nbconvert_exporter": "python",
      "pygments_lexer": "ipython3",
      "version": "3.10.9"
    },
    "colab": {
      "provenance": []
    }
  },
  "nbformat": 4,
  "nbformat_minor": 0
}